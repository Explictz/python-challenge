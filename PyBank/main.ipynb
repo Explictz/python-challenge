{
 "cells": [
  {
   "cell_type": "code",
   "execution_count": 1,
   "id": "3cbde6ec-3cf7-48ad-a378-0a65d6a8f67a",
   "metadata": {},
   "outputs": [],
   "source": [
    "import csv\n",
    "from pathlib import Path "
   ]
  },
  {
   "cell_type": "code",
   "execution_count": 2,
   "id": "82534f6b-7ec8-47a8-ba52-b069b7678c77",
   "metadata": {},
   "outputs": [],
   "source": [
    "budget_data_path = Path('/Users/Expli/Bootcamp/USYD-VIRT-FIN-PT-12-2022-U-LOLC-main/02-Python/Homework/Instructions/PyBank/Resources/budget_data.csv')"
   ]
  },
  {
   "cell_type": "code",
   "execution_count": 3,
   "id": "5b417e31-9e87-4009-9ddc-d90fbc5901c1",
   "metadata": {},
   "outputs": [],
   "source": [
    "total_months = []\n",
    "total_profit = []\n",
    "monthly_profit = []"
   ]
  },
  {
   "cell_type": "code",
   "execution_count": 4,
   "id": "d7aedad5-5bca-4193-a92c-b8b681f2362c",
   "metadata": {},
   "outputs": [],
   "source": [
    "with open(budget_data_path) as budget:\n",
    "    csvreader = csv.reader(budget,delimiter=\",\")\n",
    "    header = next(csvreader)\n",
    "    for row in csvreader: \n",
    "        total_months.append(row[0])\n",
    "        total_profit.append(int(row[1]))\n",
    "    for i in range(len(total_profit)-1):        \n",
    "        monthly_profit.append(total_profit[i+1]-total_profit[i])"
   ]
  },
  {
   "cell_type": "code",
   "execution_count": 5,
   "id": "ac473ee3-4e34-42e6-a2cb-b4f97ac6cbdc",
   "metadata": {},
   "outputs": [],
   "source": [
    "max_value_profit = max(monthly_profit)\n",
    "max_profit_month = monthly_profit.index(max(monthly_profit)) + 1\n",
    "max_value_loss = min(monthly_profit)\n",
    "max_loss_month = monthly_profit.index(min(monthly_profit)) + 1"
   ]
  },
  {
   "cell_type": "code",
   "execution_count": 6,
   "id": "bf99a080-d011-42cc-8e26-9258b8adf67b",
   "metadata": {},
   "outputs": [
    {
     "name": "stdout",
     "output_type": "stream",
     "text": [
      "Financial Analysis\n",
      "-----------------------\n",
      "Total Months: 86\n",
      "Total: $38382578\n",
      "Average Change: -2315.12\n",
      "Greatest Increase in Profits: Feb-2012 ($1926159)\n",
      "Greatest Decrease in Profits: Sep-2013 ($-2196167)\n"
     ]
    }
   ],
   "source": [
    "print(\"Financial Analysis\")\n",
    "print(\"-----------------------\")\n",
    "print(f\"Total Months: {len(total_months)}\")\n",
    "print(f\"Total: ${sum(total_profit)}\")\n",
    "print(f\"Average Change: {round(sum(monthly_profit)/len(monthly_profit),2)}\")\n",
    "print(f\"Greatest Increase in Profits: {total_months[max_profit_month]} (${(str(max_value_profit))})\")\n",
    "print(f\"Greatest Decrease in Profits: {total_months[max_loss_month]} (${(str(max_value_loss))})\")"
   ]
  },
  {
   "cell_type": "code",
   "execution_count": 7,
   "id": "ecd01a75-4fec-4e51-b2d9-e95c6420df13",
   "metadata": {},
   "outputs": [],
   "source": [
    "output_file = Path(\"/Users/Expli/python-challenge/PyBank/Finacial__Analysis_summary.txt\")\n",
    "with open(output_file,\"w\") as file:\n",
    "    file.write(\"Financial Analysis\")\n",
    "    file.write(\"\\n\")\n",
    "    file.write(\"-----------------------\")\n",
    "    file.write(\"\\n\")\n",
    "    file.write(f\"Total Months: {len(total_months)}\")\n",
    "    file.write(\"\\n\")\n",
    "    file.write(f\"Total: ${sum(total_profit)}\")\n",
    "    file.write(\"\\n\")\n",
    "    file.write(f\"Average Change: {round(sum(monthly_profit)/len(monthly_profit),2)}\")\n",
    "    file.write(\"\\n\")\n",
    "    file.write(f\"Greatest Increase in Profits: {total_months[max_profit_month]} (${(str(max_value_profit))})\")\n",
    "    file.write(\"\\n\")\n",
    "    file.write(f\"Greatest Decrease in Profits: {total_months[max_loss_month]} (${(str(max_value_loss))})\")"
   ]
  },
  {
   "cell_type": "code",
   "execution_count": 8,
   "id": "bf5cd380-35e3-4420-877d-1fdb866c7a6c",
   "metadata": {},
   "outputs": [
    {
     "ename": "SyntaxError",
     "evalue": "invalid syntax (2377712428.py, line 1)",
     "output_type": "error",
     "traceback": [
      "\u001b[1;36m  File \u001b[1;32m\"C:\\Users\\Expli\\AppData\\Local\\Temp\\ipykernel_26144\\2377712428.py\"\u001b[1;36m, line \u001b[1;32m1\u001b[0m\n\u001b[1;33m    Citations: https://github.com/cantugabriela/Python-Challenge/blob/master/PyBank/main.py\u001b[0m\n\u001b[1;37m                    ^\u001b[0m\n\u001b[1;31mSyntaxError\u001b[0m\u001b[1;31m:\u001b[0m invalid syntax\n"
     ]
    }
   ],
   "source": [
    "Citations: https://github.com/cantugabriela/Python-Challenge/blob/master/PyBank/main.py"
   ]
  },
  {
   "cell_type": "code",
   "execution_count": null,
   "id": "ef2d3ffc-4c59-47e2-88d6-3e0f083d1a0f",
   "metadata": {},
   "outputs": [],
   "source": []
  }
 ],
 "metadata": {
  "kernelspec": {
   "display_name": "Python 3 (ipykernel)",
   "language": "python",
   "name": "python3"
  },
  "language_info": {
   "codemirror_mode": {
    "name": "ipython",
    "version": 3
   },
   "file_extension": ".py",
   "mimetype": "text/x-python",
   "name": "python",
   "nbconvert_exporter": "python",
   "pygments_lexer": "ipython3",
   "version": "3.9.13"
  }
 },
 "nbformat": 4,
 "nbformat_minor": 5
}
